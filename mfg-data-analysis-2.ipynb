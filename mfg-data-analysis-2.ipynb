{
 "cells": [
  {
   "cell_type": "markdown",
   "metadata": {},
   "source": [
    "# Manufacturing Test Data Analysis\n",
    "\n",
    "This jupyter notebook will be used to perform some analysis of some sample manufacturing test data. The python script in this repository performs the necessary steps to pull down data from a Google Sheet and populate a SQLite database using a pandas dataframe as an intermediary. For convenience, this jupyter notebook starts from a csv file instead of from a Google Sheet. \n",
    "\n",
    "The steps are:\n",
    "1. Read the data from the csv file into a pandas dataframe.\n",
    "2. Clean up the data.\n",
    "3. Plot and analyze the data.\n",
    "4. Conclude whether or not a test phase should be eliminated or kept."
   ]
  },
  {
   "cell_type": "markdown",
   "metadata": {},
   "source": [
    "## Libraries"
   ]
  },
  {
   "cell_type": "code",
   "execution_count": 1,
   "metadata": {},
   "outputs": [],
   "source": [
    "import unittest\n",
    "import matplotlib.pyplot as plt\n",
    "import pandas as pd\n",
    "import numpy as np\n",
    "import seaborn as sn"
   ]
  },
  {
   "cell_type": "markdown",
   "metadata": {},
   "source": [
    "# 1. Read data from csv"
   ]
  },
  {
   "cell_type": "code",
   "execution_count": 2,
   "metadata": {},
   "outputs": [
    {
     "name": "stdout",
     "output_type": "stream",
     "text": [
      "dataframe shape: (450, 32)\n"
     ]
    },
    {
     "data": {
      "text/html": [
       "<div>\n",
       "<style scoped>\n",
       "    .dataframe tbody tr th:only-of-type {\n",
       "        vertical-align: middle;\n",
       "    }\n",
       "\n",
       "    .dataframe tbody tr th {\n",
       "        vertical-align: top;\n",
       "    }\n",
       "\n",
       "    .dataframe thead th {\n",
       "        text-align: right;\n",
       "    }\n",
       "</style>\n",
       "<table border=\"1\" class=\"dataframe\">\n",
       "  <thead>\n",
       "    <tr style=\"text-align: right;\">\n",
       "      <th></th>\n",
       "      <th>Serial Number</th>\n",
       "      <th>Date Created</th>\n",
       "      <th>TestingSoftwareVersion</th>\n",
       "      <th>Test Result</th>\n",
       "      <th>status_CL_2</th>\n",
       "      <th>status_CL_25</th>\n",
       "      <th>status_CL_8</th>\n",
       "      <th>status_OL</th>\n",
       "      <th>P_CL_2</th>\n",
       "      <th>P_Avg_CL_25</th>\n",
       "      <th>...</th>\n",
       "      <th>F_StdDev_CL_8</th>\n",
       "      <th>F_StdDev_OL</th>\n",
       "      <th>D_Avg_CL_2</th>\n",
       "      <th>D_Avg_CL_25</th>\n",
       "      <th>D_Avg_CL_8</th>\n",
       "      <th>D_Avg_OL</th>\n",
       "      <th>D_StdDev_CL_2</th>\n",
       "      <th>D_StdDev_CL_25</th>\n",
       "      <th>D_StdDev_CL_8</th>\n",
       "      <th>D_StdDev_OL</th>\n",
       "    </tr>\n",
       "  </thead>\n",
       "  <tbody>\n",
       "    <tr>\n",
       "      <td>0</td>\n",
       "      <td>4A001H</td>\n",
       "      <td>1/23/2018 10:49</td>\n",
       "      <td>3.2</td>\n",
       "      <td>Pass</td>\n",
       "      <td>Pass</td>\n",
       "      <td>Pass</td>\n",
       "      <td>Pass</td>\n",
       "      <td>Pass</td>\n",
       "      <td>29,335.58</td>\n",
       "      <td>29,491.29</td>\n",
       "      <td>...</td>\n",
       "      <td>57.42083</td>\n",
       "      <td>45.50565</td>\n",
       "      <td>368.1233</td>\n",
       "      <td>4,182.69</td>\n",
       "      <td>1350.583</td>\n",
       "      <td>2383.093</td>\n",
       "      <td>19.25788</td>\n",
       "      <td>17.21346</td>\n",
       "      <td>15.86988</td>\n",
       "      <td>11.74825</td>\n",
       "    </tr>\n",
       "    <tr>\n",
       "      <td>1</td>\n",
       "      <td>4A001H</td>\n",
       "      <td>1/23/2018 10:49</td>\n",
       "      <td>3.2</td>\n",
       "      <td>Fail</td>\n",
       "      <td>Pass</td>\n",
       "      <td>Fail</td>\n",
       "      <td>Pass</td>\n",
       "      <td>Pass</td>\n",
       "      <td>29,283.49</td>\n",
       "      <td>29,633.68</td>\n",
       "      <td>...</td>\n",
       "      <td>61.96784</td>\n",
       "      <td>44.54431</td>\n",
       "      <td>372.3033</td>\n",
       "      <td>4,497.02</td>\n",
       "      <td>1339.677</td>\n",
       "      <td>2396.403</td>\n",
       "      <td>16.08281</td>\n",
       "      <td>985.31040</td>\n",
       "      <td>16.53243</td>\n",
       "      <td>11.21949</td>\n",
       "    </tr>\n",
       "    <tr>\n",
       "      <td>2</td>\n",
       "      <td>4A001P</td>\n",
       "      <td>1/23/2018 10:15</td>\n",
       "      <td>3.2</td>\n",
       "      <td>Pass</td>\n",
       "      <td>Pass</td>\n",
       "      <td>Pass</td>\n",
       "      <td>Pass</td>\n",
       "      <td>Pass</td>\n",
       "      <td>29,305.18</td>\n",
       "      <td>29,363.80</td>\n",
       "      <td>...</td>\n",
       "      <td>60.35593</td>\n",
       "      <td>47.61033</td>\n",
       "      <td>412.07</td>\n",
       "      <td>3849.643</td>\n",
       "      <td>1316.22</td>\n",
       "      <td>2402.773</td>\n",
       "      <td>18.30341</td>\n",
       "      <td>16.72933</td>\n",
       "      <td>14.27912</td>\n",
       "      <td>11.31950</td>\n",
       "    </tr>\n",
       "    <tr>\n",
       "      <td>3</td>\n",
       "      <td>4A001M</td>\n",
       "      <td>1/23/2018 10:02</td>\n",
       "      <td>3.2</td>\n",
       "      <td>Pass</td>\n",
       "      <td>Pass</td>\n",
       "      <td>Pass</td>\n",
       "      <td>Pass</td>\n",
       "      <td>Pass</td>\n",
       "      <td>29,281.21</td>\n",
       "      <td>29,302.74</td>\n",
       "      <td>...</td>\n",
       "      <td>52.70877</td>\n",
       "      <td>52.20287</td>\n",
       "      <td>319.48</td>\n",
       "      <td>3205.407</td>\n",
       "      <td>1072.523</td>\n",
       "      <td>2387.513</td>\n",
       "      <td>15.92340</td>\n",
       "      <td>30.93753</td>\n",
       "      <td>13.09100</td>\n",
       "      <td>12.09733</td>\n",
       "    </tr>\n",
       "    <tr>\n",
       "      <td>4</td>\n",
       "      <td>4A001K</td>\n",
       "      <td>1/23/2018 9:47</td>\n",
       "      <td>3.2</td>\n",
       "      <td>Pass</td>\n",
       "      <td>Pass</td>\n",
       "      <td>Pass</td>\n",
       "      <td>Pass</td>\n",
       "      <td>Pass</td>\n",
       "      <td>29,390.77</td>\n",
       "      <td>29,342.95</td>\n",
       "      <td>...</td>\n",
       "      <td>60.10137</td>\n",
       "      <td>41.39107</td>\n",
       "      <td>348.8233</td>\n",
       "      <td>3549.727</td>\n",
       "      <td>1196.373</td>\n",
       "      <td>2405.407</td>\n",
       "      <td>12.25349</td>\n",
       "      <td>18.39503</td>\n",
       "      <td>13.93871</td>\n",
       "      <td>10.74339</td>\n",
       "    </tr>\n",
       "  </tbody>\n",
       "</table>\n",
       "<p>5 rows × 32 columns</p>\n",
       "</div>"
      ],
      "text/plain": [
       "  Serial Number     Date Created  TestingSoftwareVersion Test Result  \\\n",
       "0        4A001H  1/23/2018 10:49                     3.2        Pass   \n",
       "1        4A001H  1/23/2018 10:49                     3.2        Fail   \n",
       "2        4A001P  1/23/2018 10:15                     3.2        Pass   \n",
       "3        4A001M  1/23/2018 10:02                     3.2        Pass   \n",
       "4        4A001K   1/23/2018 9:47                     3.2        Pass   \n",
       "\n",
       "  status_CL_2 status_CL_25 status_CL_8 status_OL     P_CL_2 P_Avg_CL_25  ...  \\\n",
       "0        Pass         Pass        Pass      Pass  29,335.58   29,491.29  ...   \n",
       "1        Pass         Fail        Pass      Pass  29,283.49   29,633.68  ...   \n",
       "2        Pass         Pass        Pass      Pass  29,305.18   29,363.80  ...   \n",
       "3        Pass         Pass        Pass      Pass  29,281.21   29,302.74  ...   \n",
       "4        Pass         Pass        Pass      Pass  29,390.77   29,342.95  ...   \n",
       "\n",
       "  F_StdDev_CL_8 F_StdDev_OL  D_Avg_CL_2  D_Avg_CL_25  D_Avg_CL_8  D_Avg_OL  \\\n",
       "0      57.42083    45.50565    368.1233     4,182.69    1350.583  2383.093   \n",
       "1      61.96784    44.54431    372.3033     4,497.02    1339.677  2396.403   \n",
       "2      60.35593    47.61033      412.07     3849.643     1316.22  2402.773   \n",
       "3      52.70877    52.20287      319.48     3205.407    1072.523  2387.513   \n",
       "4      60.10137    41.39107    348.8233     3549.727    1196.373  2405.407   \n",
       "\n",
       "   D_StdDev_CL_2 D_StdDev_CL_25  D_StdDev_CL_8 D_StdDev_OL  \n",
       "0       19.25788       17.21346       15.86988    11.74825  \n",
       "1       16.08281      985.31040       16.53243    11.21949  \n",
       "2       18.30341       16.72933       14.27912    11.31950  \n",
       "3       15.92340       30.93753       13.09100    12.09733  \n",
       "4       12.25349       18.39503       13.93871    10.74339  \n",
       "\n",
       "[5 rows x 32 columns]"
      ]
     },
     "execution_count": 2,
     "metadata": {},
     "output_type": "execute_result"
    }
   ],
   "source": [
    "# Ingest the csv file into a pandas dataframe.\n",
    "csv_file_name = \"mfg-data.csv\"\n",
    "df = pd.read_csv(csv_file_name)\n",
    "\n",
    "# Print the number of rows x columns in the dataframe.\n",
    "print(\"dataframe shape:\", df.shape)\n",
    "\n",
    "# Check the first rows of the dataframe to see if the pandas import worked.\n",
    "df.head()"
   ]
  },
  {
   "cell_type": "markdown",
   "metadata": {},
   "source": [
    "# 2. Cleanup the data\n",
    "\n",
    "## 2.1 Cleanup column names to make plotting and analysis easier."
   ]
  },
  {
   "cell_type": "code",
   "execution_count": 3,
   "metadata": {},
   "outputs": [
    {
     "name": "stdout",
     "output_type": "stream",
     "text": [
      "New column names:\n",
      "Index(['serial_number', 'date_created', 'testingsoftwareversion',\n",
      "       'test_result', 'status_cl_2', 'status_cl_25', 'status_cl_8',\n",
      "       'status_ol', 'p_cl_2', 'p_avg_cl_25', 'p_avg_cl_8', 'p_avg_ol',\n",
      "       'p_stddev_cl_2', 'p_stddev_cl_25', 'p_stddev_cl_8', 'p_stddev_ol',\n",
      "       'f_avg_cl_2', 'f_avg_cl_25', 'f_avg_cl_8', 'f_avg_ol', 'f_stddev_cl_2',\n",
      "       'f_stddev_cl_25', 'f_stddev_cl_8', 'f_stddev_ol', 'd_avg_cl_2',\n",
      "       'd_avg_cl_25', 'd_avg_cl_8', 'd_avg_ol', 'd_stddev_cl_2',\n",
      "       'd_stddev_cl_25', 'd_stddev_cl_8', 'd_stddev_ol'],\n",
      "      dtype='object')\n"
     ]
    }
   ],
   "source": [
    "# Cleanup column names to all lowercase with underscores instead of spaces.\n",
    "df.columns = df.columns.str.strip().str.lower().str.replace(' ', '_')\n",
    "print(\"New column names:\")\n",
    "print(df.columns)"
   ]
  },
  {
   "cell_type": "markdown",
   "metadata": {},
   "source": [
    "## 2.2 Unit test a few values for correctness with the Google Sheet"
   ]
  },
  {
   "cell_type": "code",
   "execution_count": 4,
   "metadata": {},
   "outputs": [
    {
     "name": "stderr",
     "output_type": "stream",
     "text": [
      "...\n",
      "----------------------------------------------------------------------\n",
      "Ran 3 tests in 0.002s\n",
      "\n",
      "OK\n"
     ]
    },
    {
     "data": {
      "text/plain": [
       "<unittest.main.TestProgram at 0x7fae0d2b4c50>"
      ]
     },
     "execution_count": 4,
     "metadata": {},
     "output_type": "execute_result"
    }
   ],
   "source": [
    "# Test the dataframe to make sure it contains correct values in some known positions.\n",
    "class TestDataframe(unittest.TestCase):\n",
    "\t\n",
    "\tdef test_some_column_names(self):\n",
    "\t\tself.assertEqual(df.columns.values.tolist()[0], \"serial_number\")\n",
    "\t\tself.assertEqual(df.columns.values.tolist()[31], \"d_stddev_ol\")\n",
    "\n",
    "\tdef test_some_first_data_row_values(self):\n",
    "\t\tself.assertEqual(df.at[0,\"serial_number\"], \"4A001H\")\n",
    "\t\tself.assertEqual(df.at[0, \"p_cl_2\"], \"29,335.58\")\n",
    "\n",
    "\tdef test_some_final_data_row_values(self):\n",
    "\t\tself.assertEqual(df.at[449, \"serial_number\"], \"3C005V\")\n",
    "\t\tself.assertEqual(df.at[449, \"d_stddev_ol\"], 0)\n",
    "\t\t\n",
    "# Run the unittests\n",
    "unittest.main(argv=[''], verbosity=1, exit=False)"
   ]
  },
  {
   "cell_type": "markdown",
   "metadata": {},
   "source": [
    "## 2.3 Convert numerical data from strings to numbers"
   ]
  },
  {
   "cell_type": "code",
   "execution_count": 5,
   "metadata": {},
   "outputs": [
    {
     "data": {
      "text/plain": [
       "serial_number              object\n",
       "date_created               object\n",
       "testingsoftwareversion    float64\n",
       "test_result                object\n",
       "status_cl_2                object\n",
       "status_cl_25               object\n",
       "status_cl_8                object\n",
       "status_ol                  object\n",
       "p_cl_2                     object\n",
       "p_avg_cl_25                object\n",
       "p_avg_cl_8                 object\n",
       "p_avg_ol                   object\n",
       "p_stddev_cl_2             float64\n",
       "p_stddev_cl_25            float64\n",
       "p_stddev_cl_8             float64\n",
       "p_stddev_ol                object\n",
       "f_avg_cl_2                float64\n",
       "f_avg_cl_25                object\n",
       "f_avg_cl_8                float64\n",
       "f_avg_ol                   object\n",
       "f_stddev_cl_2             float64\n",
       "f_stddev_cl_25            float64\n",
       "f_stddev_cl_8             float64\n",
       "f_stddev_ol                object\n",
       "d_avg_cl_2                 object\n",
       "d_avg_cl_25                object\n",
       "d_avg_cl_8                 object\n",
       "d_avg_ol                   object\n",
       "d_stddev_cl_2             float64\n",
       "d_stddev_cl_25            float64\n",
       "d_stddev_cl_8             float64\n",
       "d_stddev_ol               float64\n",
       "dtype: object"
      ]
     },
     "execution_count": 5,
     "metadata": {},
     "output_type": "execute_result"
    }
   ],
   "source": [
    "# First check what datatypes each column has.\n",
    "df.dtypes"
   ]
  },
  {
   "cell_type": "markdown",
   "metadata": {},
   "source": [
    "We can see that some of the numerical data is represented as floats and some as objects.\n",
    "It's better to convert all the numerical data to floats."
   ]
  },
  {
   "cell_type": "code",
   "execution_count": 6,
   "metadata": {},
   "outputs": [],
   "source": [
    "columns_with_numerical_data = [\"p_cl_2\", \"p_avg_cl_25\", \"p_avg_cl_8\", \"p_avg_ol\", \"p_stddev_ol\",\n",
    "                              \"f_avg_cl_25\", \"f_avg_ol\", \"f_stddev_ol\", \"d_avg_cl_2\", \"d_avg_cl_25\",\n",
    "                              \"d_avg_cl_8\", \"d_avg_ol\"]\n",
    "\n",
    "# Remove commas and whitespace.\n",
    "for column in columns_with_numerical_data:\n",
    "    df[column] = df[column].apply(lambda x : x.strip().replace(',', '')) \n",
    "  \n",
    "# Convert the data type to float.\n",
    "df[columns_with_numerical_data] = df[columns_with_numerical_data].astype(float)"
   ]
  },
  {
   "cell_type": "markdown",
   "metadata": {},
   "source": [
    "## 2.4 Convert categorical data from strings to numbers"
   ]
  },
  {
   "cell_type": "code",
   "execution_count": 7,
   "metadata": {},
   "outputs": [],
   "source": [
    "# For example, plotting and analysis will be easier if we encode \"Pass\" as 1 and \"Fail\" as 0.\n",
    "# Note that we will intentionally keep any NaN values instead of changing them.\n",
    "columns_with_categorical_data = [\"test_result\", \"status_cl_2\", \"status_cl_25\", \"status_cl_8\", \"status_ol\"]\n",
    "\n",
    "status_mapping = {\"Pass\": 1, \"Fail\": 0}\n",
    "\n",
    "for column in columns_with_categorical_data:\n",
    "    df[column] = df[column].map(status_mapping)\n",
    "\n",
    "df[columns_with_categorical_data] = df[columns_with_categorical_data].astype(float)"
   ]
  },
  {
   "cell_type": "markdown",
   "metadata": {},
   "source": [
    "## 2.5 Convert timestamp strings to pandas date time object"
   ]
  },
  {
   "cell_type": "code",
   "execution_count": 8,
   "metadata": {},
   "outputs": [
    {
     "data": {
      "text/html": [
       "<div>\n",
       "<style scoped>\n",
       "    .dataframe tbody tr th:only-of-type {\n",
       "        vertical-align: middle;\n",
       "    }\n",
       "\n",
       "    .dataframe tbody tr th {\n",
       "        vertical-align: top;\n",
       "    }\n",
       "\n",
       "    .dataframe thead th {\n",
       "        text-align: right;\n",
       "    }\n",
       "</style>\n",
       "<table border=\"1\" class=\"dataframe\">\n",
       "  <thead>\n",
       "    <tr style=\"text-align: right;\">\n",
       "      <th></th>\n",
       "      <th>serial_number</th>\n",
       "      <th>date_created</th>\n",
       "      <th>testingsoftwareversion</th>\n",
       "      <th>test_result</th>\n",
       "      <th>status_cl_2</th>\n",
       "      <th>status_cl_25</th>\n",
       "      <th>status_cl_8</th>\n",
       "      <th>status_ol</th>\n",
       "      <th>p_cl_2</th>\n",
       "      <th>p_avg_cl_25</th>\n",
       "      <th>...</th>\n",
       "      <th>f_stddev_cl_8</th>\n",
       "      <th>f_stddev_ol</th>\n",
       "      <th>d_avg_cl_2</th>\n",
       "      <th>d_avg_cl_25</th>\n",
       "      <th>d_avg_cl_8</th>\n",
       "      <th>d_avg_ol</th>\n",
       "      <th>d_stddev_cl_2</th>\n",
       "      <th>d_stddev_cl_25</th>\n",
       "      <th>d_stddev_cl_8</th>\n",
       "      <th>d_stddev_ol</th>\n",
       "    </tr>\n",
       "  </thead>\n",
       "  <tbody>\n",
       "    <tr>\n",
       "      <td>0</td>\n",
       "      <td>4A001H</td>\n",
       "      <td>2018-01-23 10:49:00</td>\n",
       "      <td>3.2</td>\n",
       "      <td>1.0</td>\n",
       "      <td>1.0</td>\n",
       "      <td>1.0</td>\n",
       "      <td>1.0</td>\n",
       "      <td>1.0</td>\n",
       "      <td>29335.58</td>\n",
       "      <td>29491.29</td>\n",
       "      <td>...</td>\n",
       "      <td>57.42083</td>\n",
       "      <td>45.50565</td>\n",
       "      <td>368.1233</td>\n",
       "      <td>4182.690</td>\n",
       "      <td>1350.583</td>\n",
       "      <td>2383.093</td>\n",
       "      <td>19.25788</td>\n",
       "      <td>17.21346</td>\n",
       "      <td>15.86988</td>\n",
       "      <td>11.74825</td>\n",
       "    </tr>\n",
       "    <tr>\n",
       "      <td>1</td>\n",
       "      <td>4A001H</td>\n",
       "      <td>2018-01-23 10:49:00</td>\n",
       "      <td>3.2</td>\n",
       "      <td>0.0</td>\n",
       "      <td>1.0</td>\n",
       "      <td>0.0</td>\n",
       "      <td>1.0</td>\n",
       "      <td>1.0</td>\n",
       "      <td>29283.49</td>\n",
       "      <td>29633.68</td>\n",
       "      <td>...</td>\n",
       "      <td>61.96784</td>\n",
       "      <td>44.54431</td>\n",
       "      <td>372.3033</td>\n",
       "      <td>4497.020</td>\n",
       "      <td>1339.677</td>\n",
       "      <td>2396.403</td>\n",
       "      <td>16.08281</td>\n",
       "      <td>985.31040</td>\n",
       "      <td>16.53243</td>\n",
       "      <td>11.21949</td>\n",
       "    </tr>\n",
       "    <tr>\n",
       "      <td>2</td>\n",
       "      <td>4A001P</td>\n",
       "      <td>2018-01-23 10:15:00</td>\n",
       "      <td>3.2</td>\n",
       "      <td>1.0</td>\n",
       "      <td>1.0</td>\n",
       "      <td>1.0</td>\n",
       "      <td>1.0</td>\n",
       "      <td>1.0</td>\n",
       "      <td>29305.18</td>\n",
       "      <td>29363.80</td>\n",
       "      <td>...</td>\n",
       "      <td>60.35593</td>\n",
       "      <td>47.61033</td>\n",
       "      <td>412.0700</td>\n",
       "      <td>3849.643</td>\n",
       "      <td>1316.220</td>\n",
       "      <td>2402.773</td>\n",
       "      <td>18.30341</td>\n",
       "      <td>16.72933</td>\n",
       "      <td>14.27912</td>\n",
       "      <td>11.31950</td>\n",
       "    </tr>\n",
       "    <tr>\n",
       "      <td>3</td>\n",
       "      <td>4A001M</td>\n",
       "      <td>2018-01-23 10:02:00</td>\n",
       "      <td>3.2</td>\n",
       "      <td>1.0</td>\n",
       "      <td>1.0</td>\n",
       "      <td>1.0</td>\n",
       "      <td>1.0</td>\n",
       "      <td>1.0</td>\n",
       "      <td>29281.21</td>\n",
       "      <td>29302.74</td>\n",
       "      <td>...</td>\n",
       "      <td>52.70877</td>\n",
       "      <td>52.20287</td>\n",
       "      <td>319.4800</td>\n",
       "      <td>3205.407</td>\n",
       "      <td>1072.523</td>\n",
       "      <td>2387.513</td>\n",
       "      <td>15.92340</td>\n",
       "      <td>30.93753</td>\n",
       "      <td>13.09100</td>\n",
       "      <td>12.09733</td>\n",
       "    </tr>\n",
       "    <tr>\n",
       "      <td>4</td>\n",
       "      <td>4A001K</td>\n",
       "      <td>2018-01-23 09:47:00</td>\n",
       "      <td>3.2</td>\n",
       "      <td>1.0</td>\n",
       "      <td>1.0</td>\n",
       "      <td>1.0</td>\n",
       "      <td>1.0</td>\n",
       "      <td>1.0</td>\n",
       "      <td>29390.77</td>\n",
       "      <td>29342.95</td>\n",
       "      <td>...</td>\n",
       "      <td>60.10137</td>\n",
       "      <td>41.39107</td>\n",
       "      <td>348.8233</td>\n",
       "      <td>3549.727</td>\n",
       "      <td>1196.373</td>\n",
       "      <td>2405.407</td>\n",
       "      <td>12.25349</td>\n",
       "      <td>18.39503</td>\n",
       "      <td>13.93871</td>\n",
       "      <td>10.74339</td>\n",
       "    </tr>\n",
       "  </tbody>\n",
       "</table>\n",
       "<p>5 rows × 32 columns</p>\n",
       "</div>"
      ],
      "text/plain": [
       "  serial_number        date_created  testingsoftwareversion  test_result  \\\n",
       "0        4A001H 2018-01-23 10:49:00                     3.2          1.0   \n",
       "1        4A001H 2018-01-23 10:49:00                     3.2          0.0   \n",
       "2        4A001P 2018-01-23 10:15:00                     3.2          1.0   \n",
       "3        4A001M 2018-01-23 10:02:00                     3.2          1.0   \n",
       "4        4A001K 2018-01-23 09:47:00                     3.2          1.0   \n",
       "\n",
       "   status_cl_2  status_cl_25  status_cl_8  status_ol    p_cl_2  p_avg_cl_25  \\\n",
       "0          1.0           1.0          1.0        1.0  29335.58     29491.29   \n",
       "1          1.0           0.0          1.0        1.0  29283.49     29633.68   \n",
       "2          1.0           1.0          1.0        1.0  29305.18     29363.80   \n",
       "3          1.0           1.0          1.0        1.0  29281.21     29302.74   \n",
       "4          1.0           1.0          1.0        1.0  29390.77     29342.95   \n",
       "\n",
       "   ...  f_stddev_cl_8  f_stddev_ol  d_avg_cl_2  d_avg_cl_25  d_avg_cl_8  \\\n",
       "0  ...       57.42083     45.50565    368.1233     4182.690    1350.583   \n",
       "1  ...       61.96784     44.54431    372.3033     4497.020    1339.677   \n",
       "2  ...       60.35593     47.61033    412.0700     3849.643    1316.220   \n",
       "3  ...       52.70877     52.20287    319.4800     3205.407    1072.523   \n",
       "4  ...       60.10137     41.39107    348.8233     3549.727    1196.373   \n",
       "\n",
       "   d_avg_ol  d_stddev_cl_2  d_stddev_cl_25  d_stddev_cl_8  d_stddev_ol  \n",
       "0  2383.093       19.25788        17.21346       15.86988     11.74825  \n",
       "1  2396.403       16.08281       985.31040       16.53243     11.21949  \n",
       "2  2402.773       18.30341        16.72933       14.27912     11.31950  \n",
       "3  2387.513       15.92340        30.93753       13.09100     12.09733  \n",
       "4  2405.407       12.25349        18.39503       13.93871     10.74339  \n",
       "\n",
       "[5 rows x 32 columns]"
      ]
     },
     "execution_count": 8,
     "metadata": {},
     "output_type": "execute_result"
    }
   ],
   "source": [
    "df[\"date_created\"] = pd.to_datetime(df[\"date_created\"])    \n",
    "df.head()"
   ]
  },
  {
   "cell_type": "markdown",
   "metadata": {},
   "source": [
    "# 3. Data Analysis\n",
    "\n",
    "## 3.1 For each column, how many missing or strange values are there?"
   ]
  },
  {
   "cell_type": "code",
   "execution_count": 9,
   "metadata": {},
   "outputs": [
    {
     "data": {
      "text/html": [
       "<div>\n",
       "<style scoped>\n",
       "    .dataframe tbody tr th:only-of-type {\n",
       "        vertical-align: middle;\n",
       "    }\n",
       "\n",
       "    .dataframe tbody tr th {\n",
       "        vertical-align: top;\n",
       "    }\n",
       "\n",
       "    .dataframe thead th {\n",
       "        text-align: right;\n",
       "    }\n",
       "</style>\n",
       "<table border=\"1\" class=\"dataframe\">\n",
       "  <thead>\n",
       "    <tr style=\"text-align: right;\">\n",
       "      <th></th>\n",
       "      <th>testingsoftwareversion</th>\n",
       "      <th>test_result</th>\n",
       "      <th>status_cl_2</th>\n",
       "      <th>status_cl_25</th>\n",
       "      <th>status_cl_8</th>\n",
       "      <th>status_ol</th>\n",
       "      <th>p_cl_2</th>\n",
       "      <th>p_avg_cl_25</th>\n",
       "      <th>p_avg_cl_8</th>\n",
       "      <th>p_avg_ol</th>\n",
       "      <th>...</th>\n",
       "      <th>f_stddev_cl_8</th>\n",
       "      <th>f_stddev_ol</th>\n",
       "      <th>d_avg_cl_2</th>\n",
       "      <th>d_avg_cl_25</th>\n",
       "      <th>d_avg_cl_8</th>\n",
       "      <th>d_avg_ol</th>\n",
       "      <th>d_stddev_cl_2</th>\n",
       "      <th>d_stddev_cl_25</th>\n",
       "      <th>d_stddev_cl_8</th>\n",
       "      <th>d_stddev_ol</th>\n",
       "    </tr>\n",
       "  </thead>\n",
       "  <tbody>\n",
       "    <tr>\n",
       "      <td>count</td>\n",
       "      <td>442.00000</td>\n",
       "      <td>449.000000</td>\n",
       "      <td>448.000000</td>\n",
       "      <td>439.000000</td>\n",
       "      <td>445.000000</td>\n",
       "      <td>438.000000</td>\n",
       "      <td>450.000000</td>\n",
       "      <td>450.000000</td>\n",
       "      <td>450.000000</td>\n",
       "      <td>450.000000</td>\n",
       "      <td>...</td>\n",
       "      <td>450.000000</td>\n",
       "      <td>450.000000</td>\n",
       "      <td>450.000000</td>\n",
       "      <td>450.000000</td>\n",
       "      <td>450.000000</td>\n",
       "      <td>450.000000</td>\n",
       "      <td>450.000000</td>\n",
       "      <td>450.000000</td>\n",
       "      <td>450.000000</td>\n",
       "      <td>450.000000</td>\n",
       "    </tr>\n",
       "    <tr>\n",
       "      <td>mean</td>\n",
       "      <td>3.16267</td>\n",
       "      <td>0.634744</td>\n",
       "      <td>0.845982</td>\n",
       "      <td>0.808656</td>\n",
       "      <td>0.761798</td>\n",
       "      <td>0.910959</td>\n",
       "      <td>28799.197157</td>\n",
       "      <td>28276.903652</td>\n",
       "      <td>28721.657367</td>\n",
       "      <td>29524.249059</td>\n",
       "      <td>...</td>\n",
       "      <td>60.467758</td>\n",
       "      <td>48.716788</td>\n",
       "      <td>1235.547416</td>\n",
       "      <td>5053.995682</td>\n",
       "      <td>2221.062660</td>\n",
       "      <td>2693.984165</td>\n",
       "      <td>27.889232</td>\n",
       "      <td>120.312266</td>\n",
       "      <td>19.559376</td>\n",
       "      <td>19.542673</td>\n",
       "    </tr>\n",
       "    <tr>\n",
       "      <td>std</td>\n",
       "      <td>0.30807</td>\n",
       "      <td>0.482039</td>\n",
       "      <td>0.361369</td>\n",
       "      <td>0.393808</td>\n",
       "      <td>0.426463</td>\n",
       "      <td>0.285129</td>\n",
       "      <td>3378.416414</td>\n",
       "      <td>5189.755529</td>\n",
       "      <td>4025.079281</td>\n",
       "      <td>5257.695063</td>\n",
       "      <td>...</td>\n",
       "      <td>54.313106</td>\n",
       "      <td>192.998113</td>\n",
       "      <td>3611.996076</td>\n",
       "      <td>3451.207699</td>\n",
       "      <td>3408.849674</td>\n",
       "      <td>2723.632552</td>\n",
       "      <td>116.693975</td>\n",
       "      <td>224.798688</td>\n",
       "      <td>36.967677</td>\n",
       "      <td>130.165722</td>\n",
       "    </tr>\n",
       "    <tr>\n",
       "      <td>min</td>\n",
       "      <td>-3.20000</td>\n",
       "      <td>0.000000</td>\n",
       "      <td>0.000000</td>\n",
       "      <td>0.000000</td>\n",
       "      <td>0.000000</td>\n",
       "      <td>0.000000</td>\n",
       "      <td>0.000000</td>\n",
       "      <td>0.000000</td>\n",
       "      <td>0.000000</td>\n",
       "      <td>0.000000</td>\n",
       "      <td>...</td>\n",
       "      <td>0.000000</td>\n",
       "      <td>0.000000</td>\n",
       "      <td>-1171.640000</td>\n",
       "      <td>0.000000</td>\n",
       "      <td>0.000000</td>\n",
       "      <td>0.000000</td>\n",
       "      <td>0.000000</td>\n",
       "      <td>0.000000</td>\n",
       "      <td>0.000000</td>\n",
       "      <td>0.000000</td>\n",
       "    </tr>\n",
       "    <tr>\n",
       "      <td>25%</td>\n",
       "      <td>3.20000</td>\n",
       "      <td>0.000000</td>\n",
       "      <td>1.000000</td>\n",
       "      <td>1.000000</td>\n",
       "      <td>1.000000</td>\n",
       "      <td>1.000000</td>\n",
       "      <td>29291.465000</td>\n",
       "      <td>29312.572500</td>\n",
       "      <td>29389.030000</td>\n",
       "      <td>30641.955000</td>\n",
       "      <td>...</td>\n",
       "      <td>50.419602</td>\n",
       "      <td>35.725210</td>\n",
       "      <td>337.739200</td>\n",
       "      <td>3583.889000</td>\n",
       "      <td>1192.574750</td>\n",
       "      <td>2402.853000</td>\n",
       "      <td>15.549385</td>\n",
       "      <td>16.148933</td>\n",
       "      <td>14.172213</td>\n",
       "      <td>9.896221</td>\n",
       "    </tr>\n",
       "    <tr>\n",
       "      <td>50%</td>\n",
       "      <td>3.20000</td>\n",
       "      <td>1.000000</td>\n",
       "      <td>1.000000</td>\n",
       "      <td>1.000000</td>\n",
       "      <td>1.000000</td>\n",
       "      <td>1.000000</td>\n",
       "      <td>29333.950000</td>\n",
       "      <td>29405.045000</td>\n",
       "      <td>29430.550000</td>\n",
       "      <td>30654.435000</td>\n",
       "      <td>...</td>\n",
       "      <td>55.875610</td>\n",
       "      <td>39.649770</td>\n",
       "      <td>450.998350</td>\n",
       "      <td>4160.360000</td>\n",
       "      <td>1448.913500</td>\n",
       "      <td>2421.101500</td>\n",
       "      <td>17.120565</td>\n",
       "      <td>22.545610</td>\n",
       "      <td>15.557350</td>\n",
       "      <td>10.800455</td>\n",
       "    </tr>\n",
       "    <tr>\n",
       "      <td>75%</td>\n",
       "      <td>3.20000</td>\n",
       "      <td>1.000000</td>\n",
       "      <td>1.000000</td>\n",
       "      <td>1.000000</td>\n",
       "      <td>1.000000</td>\n",
       "      <td>1.000000</td>\n",
       "      <td>29373.927500</td>\n",
       "      <td>29469.155000</td>\n",
       "      <td>29468.365000</td>\n",
       "      <td>30666.375000</td>\n",
       "      <td>...</td>\n",
       "      <td>61.902687</td>\n",
       "      <td>44.539195</td>\n",
       "      <td>579.698325</td>\n",
       "      <td>5594.235000</td>\n",
       "      <td>1877.993250</td>\n",
       "      <td>2438.877000</td>\n",
       "      <td>18.937040</td>\n",
       "      <td>45.488245</td>\n",
       "      <td>17.288137</td>\n",
       "      <td>11.778422</td>\n",
       "    </tr>\n",
       "    <tr>\n",
       "      <td>max</td>\n",
       "      <td>3.20000</td>\n",
       "      <td>1.000000</td>\n",
       "      <td>1.000000</td>\n",
       "      <td>1.000000</td>\n",
       "      <td>1.000000</td>\n",
       "      <td>1.000000</td>\n",
       "      <td>29617.930000</td>\n",
       "      <td>29663.160000</td>\n",
       "      <td>29584.620000</td>\n",
       "      <td>30684.300000</td>\n",
       "      <td>...</td>\n",
       "      <td>851.725800</td>\n",
       "      <td>4087.230000</td>\n",
       "      <td>36387.250000</td>\n",
       "      <td>36391.400000</td>\n",
       "      <td>36395.960000</td>\n",
       "      <td>36346.890000</td>\n",
       "      <td>2324.910000</td>\n",
       "      <td>1180.899000</td>\n",
       "      <td>502.569800</td>\n",
       "      <td>2086.337000</td>\n",
       "    </tr>\n",
       "  </tbody>\n",
       "</table>\n",
       "<p>8 rows × 30 columns</p>\n",
       "</div>"
      ],
      "text/plain": [
       "       testingsoftwareversion  test_result  status_cl_2  status_cl_25  \\\n",
       "count               442.00000   449.000000   448.000000    439.000000   \n",
       "mean                  3.16267     0.634744     0.845982      0.808656   \n",
       "std                   0.30807     0.482039     0.361369      0.393808   \n",
       "min                  -3.20000     0.000000     0.000000      0.000000   \n",
       "25%                   3.20000     0.000000     1.000000      1.000000   \n",
       "50%                   3.20000     1.000000     1.000000      1.000000   \n",
       "75%                   3.20000     1.000000     1.000000      1.000000   \n",
       "max                   3.20000     1.000000     1.000000      1.000000   \n",
       "\n",
       "       status_cl_8   status_ol        p_cl_2   p_avg_cl_25    p_avg_cl_8  \\\n",
       "count   445.000000  438.000000    450.000000    450.000000    450.000000   \n",
       "mean      0.761798    0.910959  28799.197157  28276.903652  28721.657367   \n",
       "std       0.426463    0.285129   3378.416414   5189.755529   4025.079281   \n",
       "min       0.000000    0.000000      0.000000      0.000000      0.000000   \n",
       "25%       1.000000    1.000000  29291.465000  29312.572500  29389.030000   \n",
       "50%       1.000000    1.000000  29333.950000  29405.045000  29430.550000   \n",
       "75%       1.000000    1.000000  29373.927500  29469.155000  29468.365000   \n",
       "max       1.000000    1.000000  29617.930000  29663.160000  29584.620000   \n",
       "\n",
       "           p_avg_ol  ...  f_stddev_cl_8  f_stddev_ol    d_avg_cl_2  \\\n",
       "count    450.000000  ...     450.000000   450.000000    450.000000   \n",
       "mean   29524.249059  ...      60.467758    48.716788   1235.547416   \n",
       "std     5257.695063  ...      54.313106   192.998113   3611.996076   \n",
       "min        0.000000  ...       0.000000     0.000000  -1171.640000   \n",
       "25%    30641.955000  ...      50.419602    35.725210    337.739200   \n",
       "50%    30654.435000  ...      55.875610    39.649770    450.998350   \n",
       "75%    30666.375000  ...      61.902687    44.539195    579.698325   \n",
       "max    30684.300000  ...     851.725800  4087.230000  36387.250000   \n",
       "\n",
       "        d_avg_cl_25    d_avg_cl_8      d_avg_ol  d_stddev_cl_2  \\\n",
       "count    450.000000    450.000000    450.000000     450.000000   \n",
       "mean    5053.995682   2221.062660   2693.984165      27.889232   \n",
       "std     3451.207699   3408.849674   2723.632552     116.693975   \n",
       "min        0.000000      0.000000      0.000000       0.000000   \n",
       "25%     3583.889000   1192.574750   2402.853000      15.549385   \n",
       "50%     4160.360000   1448.913500   2421.101500      17.120565   \n",
       "75%     5594.235000   1877.993250   2438.877000      18.937040   \n",
       "max    36391.400000  36395.960000  36346.890000    2324.910000   \n",
       "\n",
       "       d_stddev_cl_25  d_stddev_cl_8  d_stddev_ol  \n",
       "count      450.000000     450.000000   450.000000  \n",
       "mean       120.312266      19.559376    19.542673  \n",
       "std        224.798688      36.967677   130.165722  \n",
       "min          0.000000       0.000000     0.000000  \n",
       "25%         16.148933      14.172213     9.896221  \n",
       "50%         22.545610      15.557350    10.800455  \n",
       "75%         45.488245      17.288137    11.778422  \n",
       "max       1180.899000     502.569800  2086.337000  \n",
       "\n",
       "[8 rows x 30 columns]"
      ]
     },
     "execution_count": 9,
     "metadata": {},
     "output_type": "execute_result"
    }
   ],
   "source": [
    "df.describe()"
   ]
  },
  {
   "cell_type": "markdown",
   "metadata": {},
   "source": [
    "The first row in the above chart is named \"count\". It tells us how many data cells were counted in each column. We can see that each of the test status columns has at least a few data points missing whereas the numerical data columns (average, std. dev.) have all 450 data points."
   ]
  },
  {
   "cell_type": "markdown",
   "metadata": {},
   "source": [
    "## 3.2 Are the different tests correlated?"
   ]
  },
  {
   "cell_type": "code",
   "execution_count": 41,
   "metadata": {
    "scrolled": false
   },
   "outputs": [
    {
     "data": {
      "image/png": "[encoded data removed]",
      "text/plain": [
       "<Figure size 432x288 with 2 Axes>"
      ]
     },
     "metadata": {
      "needs_background": "light"
     },
     "output_type": "display_data"
    },
    {
     "name": "stdout",
     "output_type": "stream",
     "text": [
      "test_result               1.000000\n",
      "status_cl_8               0.737862\n",
      "status_cl_25              0.650110\n",
      "status_cl_2               0.556424\n",
      "f_avg_ol                  0.457752\n",
      "status_ol                 0.399284\n",
      "f_stddev_cl_25            0.346497\n",
      "d_stddev_cl_25            0.344244\n",
      "d_avg_cl_8                0.316465\n",
      "d_avg_cl_25               0.316345\n",
      "p_stddev_cl_25            0.314120\n",
      "d_avg_cl_2                0.298123\n",
      "f_avg_cl_25               0.248483\n",
      "f_avg_cl_2                0.238316\n",
      "f_avg_cl_8                0.212641\n",
      "p_avg_cl_25               0.178361\n",
      "p_avg_ol                  0.167699\n",
      "d_avg_ol                  0.150728\n",
      "d_stddev_cl_8             0.139576\n",
      "p_avg_cl_8                0.124015\n",
      "d_stddev_cl_2             0.118496\n",
      "f_stddev_cl_8             0.101662\n",
      "d_stddev_ol               0.089411\n",
      "p_stddev_ol               0.083336\n",
      "p_stddev_cl_8             0.078234\n",
      "p_cl_2                    0.076891\n",
      "p_stddev_cl_2             0.069445\n",
      "testingsoftwareversion    0.062761\n",
      "f_stddev_ol               0.054831\n",
      "f_stddev_cl_2             0.035244\n",
      "Name: test_result, dtype: float64\n"
     ]
    }
   ],
   "source": [
    "# First heatmap\n",
    "big_correlation_matrix = df.corr()\n",
    "sn.heatmap(big_correlation_matrix, annot=False)\n",
    "plt.show()\n",
    "#print(big_correlation_matrix)\n",
    "\n",
    "test_result_corr_vector = big_correlation_matrix[:][\"test_result\"]\n",
    "test_result_corr_vector = test_result_corr_vector.abs() # Absolute value\n",
    "sorted_results = test_result_corr_vector.sort_values(ascending=False)\n",
    "#print(test_result_corr_vector)\n",
    "print(sorted_results)\n",
    "#print(test_result_corr_vector.shape)\n"
   ]
  },
  {
   "cell_type": "markdown",
   "metadata": {},
   "source": [
    "## Heatmap Analysis Part 1\n",
    "\n",
    "We can use a correlation matrix with a heatmap to quickly visualize which of the 30 variables are strongly or weakly correlated with the test_result. The top results are:\n",
    "0. test_result = 1.000\n",
    "1. status_cl_8 = 0.738\n",
    "2. status_cl_25 = 0.650\n",
    "3. status_cl_2 = 0.556\n",
    "4. f_avg_ol = 0.458\n",
    "5. status_ol = 0.399\n",
    "6. f_stddev_cl_25 = 0.346\n",
    "\n",
    "We can disregard the top result \"test_result\" since any feature will perfectly correlate with itself.\n",
    "\n",
    "Interestingly, \"f_avg_ol\" has slightly better correlation than its respective test: \"status_ol\"\n"
   ]
  },
  {
   "cell_type": "code",
   "execution_count": 11,
   "metadata": {},
   "outputs": [
    {
     "data": {
      "image/png": "[encoded data removed]",
      "text/plain": [
       "<Figure size 432x288 with 2 Axes>"
      ]
     },
     "metadata": {
      "needs_background": "light"
     },
     "output_type": "display_data"
    },
    {
     "name": "stdout",
     "output_type": "stream",
     "text": [
      "              test_result  status_cl_2  status_cl_25  status_cl_8  status_ol\n",
      "test_result      1.000000     0.556424      0.650110     0.737862   0.399284\n",
      "status_cl_2      0.556424     1.000000      0.417977     0.612691   0.424966\n",
      "status_cl_25     0.650110     0.417977      1.000000     0.353256   0.377110\n",
      "status_cl_8      0.737862     0.612691      0.353256     1.000000   0.269209\n",
      "status_ol        0.399284     0.424966      0.377110     0.269209   1.000000\n"
     ]
    }
   ],
   "source": [
    "# Second heatmap\n",
    "columns_with_categorical_data = [\"test_result\", \"status_cl_2\", \"status_cl_25\", \"status_cl_8\", \"status_ol\"]\n",
    "small_correlation_matrix = df[columns_with_categorical_data].corr()\n",
    "sn.heatmap(small_correlation_matrix, annot=True)\n",
    "plt.show()\n",
    "print(small_correlation_matrix)"
   ]
  },
  {
   "cell_type": "markdown",
   "metadata": {},
   "source": [
    "## Heatmap Analysis Part 2\n",
    "\n",
    "In the above heatmaps, we represent the correlation of each individual test phase status with each other. \n",
    "The scale of these heatmaps is from +1 (perfectly correlated) as can be seen in the diagonal line, to -1 (perfectly negatively correlated). In the middle lies 0.0 which means no correlation.\n",
    "\n",
    "\n",
    "Of the 4 phases, we can see that \"status_cl_8\" has the highest correlation with the overall \"test_result\" and \"status_ol\" has the lowest correlation with the overall \"test_result\". Written another way, \"status_cl_8\" is the best predictor of \"test_result\" whereas \"status_ol\" is a bad predictor of \"test_result\".\n",
    "\n",
    "Looking at the correlation between the phases themselves, we can see that the lowest correlation value (0.27) is between \"status_cl_8\" and \"status_ol\". This tells us that the result of one of these phase tests is a bad predictor of the result of the other phase test."
   ]
  },
  {
   "cell_type": "code",
   "execution_count": 12,
   "metadata": {},
   "outputs": [
    {
     "data": {
      "text/plain": [
       "array([[<matplotlib.axes._subplots.AxesSubplot object at 0x7fae0ce20b10>,\n",
       "        <matplotlib.axes._subplots.AxesSubplot object at 0x7fae0ac47910>],\n",
       "       [<matplotlib.axes._subplots.AxesSubplot object at 0x7fae0ac07110>,\n",
       "        <matplotlib.axes._subplots.AxesSubplot object at 0x7fae0abbc910>],\n",
       "       [<matplotlib.axes._subplots.AxesSubplot object at 0x7fae0ab7d150>,\n",
       "        <matplotlib.axes._subplots.AxesSubplot object at 0x7fae0abb2950>]],\n",
       "      dtype=object)"
      ]
     },
     "execution_count": 12,
     "metadata": {},
     "output_type": "execute_result"
    },
    {
     "data": {
      "image/png": "[encoded data removed]",
      "text/plain": [
       "<Figure size 432x288 with 6 Axes>"
      ]
     },
     "metadata": {
      "needs_background": "light"
     },
     "output_type": "display_data"
    }
   ],
   "source": [
    "df[columns_with_categorical_data].hist(bins=3, grid=False)"
   ]
  },
  {
   "cell_type": "markdown",
   "metadata": {},
   "source": [
    "In the above plots, we can see the distribution of Pass (1) and Fail (0) for each of the phase tests and the final \"test_result\"."
   ]
  },
  {
   "cell_type": "markdown",
   "metadata": {},
   "source": [
    "Another variable we can investigate is the timestamp.\n",
    "Is there any correlation between when a test was performed and the results of the test?\n",
    "\n",
    "Since the data spans from October 2017 to January 2018, we can bin the test data\n",
    "into a histogram separated into 9 different weeks."
   ]
  },
  {
   "cell_type": "code",
   "execution_count": 13,
   "metadata": {},
   "outputs": [
    {
     "data": {
      "text/plain": [
       "<matplotlib.axes._subplots.AxesSubplot at 0x7fae0aae1750>"
      ]
     },
     "execution_count": 13,
     "metadata": {},
     "output_type": "execute_result"
    },
    {
     "data": {
      "image/png": "[encoded data removed]",
      "text/plain": [
       "<Figure size 432x288 with 1 Axes>"
      ]
     },
     "metadata": {
      "needs_background": "light"
     },
     "output_type": "display_data"
    }
   ],
   "source": [
    "df[\"date_created\"].hist(bins=9)\n",
    "df[\"date_created\"].hist(bins=63)"
   ]
  },
  {
   "cell_type": "markdown",
   "metadata": {},
   "source": [
    "The above histogram of dates shows us that the vast majority of tests were created on a single day in November 2018. The blue columns are weeks and the orange columns are days."
   ]
  },
  {
   "cell_type": "code",
   "execution_count": 14,
   "metadata": {},
   "outputs": [
    {
     "data": {
      "text/plain": [
       "<matplotlib.axes._subplots.AxesSubplot at 0x7fae0a929310>"
      ]
     },
     "execution_count": 14,
     "metadata": {},
     "output_type": "execute_result"
    },
    {
     "data": {
      "image/png": "[encoded data removed]",
      "text/plain": [
       "<Figure size 432x288 with 1 Axes>"
      ]
     },
     "metadata": {
      "needs_background": "light"
     },
     "output_type": "display_data"
    },
    {
     "data": {
      "image/png": "[encoded data removed]",
      "text/plain": [
       "<Figure size 432x288 with 1 Axes>"
      ]
     },
     "metadata": {
      "needs_background": "light"
     },
     "output_type": "display_data"
    },
    {
     "data": {
      "image/png": "[encoded data removed]",
      "text/plain": [
       "<Figure size 432x288 with 1 Axes>"
      ]
     },
     "metadata": {
      "needs_background": "light"
     },
     "output_type": "display_data"
    }
   ],
   "source": [
    "plt.figure(30)\n",
    "plt.title(\"Variable D_average for OL(blue) and CL_8(orange)\")\n",
    "df[\"d_avg_ol\"].hist(bins=90)\n",
    "df[\"d_avg_cl_8\"].hist(bins=90)\n",
    "\n",
    "plt.figure(40)\n",
    "plt.title(\"Variable P_average for OL(blue) and CL_8(orange)\")\n",
    "df[\"p_avg_ol\"].hist(bins=30)\n",
    "df[\"p_avg_cl_8\"].hist(bins=30)\n",
    "\n",
    "plt.figure(50)\n",
    "plt.title(\"Variable F_average for OL(blue) and CL_8(orange)\")\n",
    "df[\"f_avg_ol\"].hist(bins=30)\n",
    "df[\"f_avg_cl_8\"].hist(bins=30)"
   ]
  },
  {
   "cell_type": "markdown",
   "metadata": {},
   "source": [
    "The above plots show how the process variable averages across all the data (Passes and Fails) differ.\n",
    "\n",
    "While the plots for variables D and P are relatively similar, variable F takes a very different shape with high variance for OL and low variance with some outliers for CL_8.\n",
    "\n",
    "The next step would be to plot passes and fails with different colors to see what a failed variable looks like. We could also do this with the standard deviation information."
   ]
  },
  {
   "cell_type": "markdown",
   "metadata": {},
   "source": [
    "## Create a dictionary to store \n",
    "Finally, I also want to create a python dictionary (hash map) of all the serial numbers (keys) which failed the test and the date each was created (values). This could be useful to someone who is querying the database."
   ]
  },
  {
   "cell_type": "code",
   "execution_count": 15,
   "metadata": {
    "scrolled": false
   },
   "outputs": [
    {
     "name": "stdout",
     "output_type": "stream",
     "text": [
      "2018-01-23 10:49:00\n"
     ]
    }
   ],
   "source": [
    "failed_widgets = {}\n",
    "\n",
    "i = 0\n",
    "while i < df.shape[0]:\n",
    "    if df[\"test_result\"][i] == 0:\n",
    "        #print(df[\"serial_number\"][i] + \" . . . \" + str(df[\"date_created\"][i]))\n",
    "        failed_widgets[df[\"serial_number\"][i]] = df[\"date_created\"][i]\n",
    "    i += 1\n",
    "    \n",
    "# We can query the date of a known serial number like this:\n",
    "print(failed_widgets[\"4A001H\"])"
   ]
  },
  {
   "cell_type": "markdown",
   "metadata": {},
   "source": [
    "## 4. Conclusion"
   ]
  },
  {
   "cell_type": "code",
   "execution_count": 16,
   "metadata": {},
   "outputs": [
    {
     "name": "stdout",
     "output_type": "stream",
     "text": [
      "              test_result  status_cl_2  status_cl_25  status_cl_8  status_ol\n",
      "test_result      1.000000     0.556424      0.650110     0.737862   0.399284\n",
      "status_cl_2      0.556424     1.000000      0.417977     0.612691   0.424966\n",
      "status_cl_25     0.650110     0.417977      1.000000     0.353256   0.377110\n",
      "status_cl_8      0.737862     0.612691      0.353256     1.000000   0.269209\n",
      "status_ol        0.399284     0.424966      0.377110     0.269209   1.000000\n"
     ]
    }
   ],
   "source": [
    "print(small_correlation_matrix)"
   ]
  },
  {
   "cell_type": "markdown",
   "metadata": {},
   "source": [
    "The objective was to determine whether any of the test phases should be eliminated. The key point in my analysis is that the test phases in order from most relevant to least relevant are:\n",
    "1. status_cl_8:  correlation = 0.74\n",
    "2. status_cl_25: correlation = 0.65\n",
    "3. status_cl_2:  correlation = 0.56\n",
    "4. status_ol:    correlation = 0.40\n",
    "\n",
    "#### Since status_ol is poorly correlated with the final test result, this phase should be eliminated. Since the other 3 phases are more strongly correlated with the final result, all 3 should be kept.\n",
    "\n",
    "More info at the wikipedia article on [correlation](https://en.wikipedia.org/wiki/Correlation_and_dependence)."
   ]
  }
 ],
 "metadata": {
  "kernelspec": {
   "display_name": "Python 3",
   "language": "python",
   "name": "python3"
  },
  "language_info": {
   "codemirror_mode": {
    "name": "ipython",
    "version": 3
   },
   "file_extension": ".py",
   "mimetype": "text/x-python",
   "name": "python",
   "nbconvert_exporter": "python",
   "pygments_lexer": "ipython3",
   "version": "3.7.4"
  }
 },
 "nbformat": 4,
 "nbformat_minor": 2
}
